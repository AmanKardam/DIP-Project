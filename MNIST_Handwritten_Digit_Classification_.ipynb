{
 "cells": [
  {
   "cell_type": "code",
   "execution_count": 115,
   "metadata": {},
   "outputs": [],
   "source": [
    "import numpy\n",
    "from keras.datasets import mnist\n",
    "from keras.models import Sequential\n",
    "from keras.layers import Dense, Dropout, Flatten\n",
    "from keras.layers import Conv2D, MaxPooling2D, MaxPool2D\n",
    "from keras import backend as K\n",
    "import matplotlib.pyplot as plt\n",
    "import cv2\n",
    "from tensorflow.python.keras.models import load_model\n",
    "import matplotlib.pyplot as plt\n",
    "# the data, split between train and test sets\n",
    "from keras.utils import np_utils\n",
    "from matplotlib import pyplot\n",
    "from sklearn.model_selection import KFold\n",
    "from tensorflow.python.keras import Sequential\n",
    "from tensorflow.python.keras.optimizers import SGD\n",
    "\n"
   ]
  },
  {
   "cell_type": "code",
   "execution_count": 116,
   "metadata": {},
   "outputs": [],
   "source": [
    "def input_data():\n",
    "\n",
    "    (X_train, y_train), (X_test, y_test) = mnist.load_data()\n",
    "\n",
    "    # Reshape to be samples*pixels*width*height\n",
    "    X_train = X_train.reshape(X_train.shape[0], 28, 28, 1).astype('float32')\n",
    "    X_test = X_test.reshape(X_test.shape[0], 28, 28, 1).astype('float32')\n",
    "\n",
    "    # One hot Code\n",
    "    y_train = np_utils.to_categorical(y_train)\n",
    "    y_test = np_utils.to_categorical(y_test)\n",
    "    num_classes = y_test.shape[1]\n",
    "\n",
    "    # convert from integers to floats\n",
    "    X_train = X_train.astype('float32')\n",
    "    X_test = X_test.astype('float32')\n",
    "    # normalize to range [0, 1]\n",
    "    X_train = (X_train / 255.0)\n",
    "    X_test = (X_test / 255.0)\n",
    "\n",
    "    return X_test, y_test, X_train, y_train\n",
    "\n",
    "# Flatten the images.\n",
    "# Flatten each 28x28 image into a 784 dimensional vector"
   ]
  },
  {
   "cell_type": "code",
   "execution_count": 117,
   "metadata": {},
   "outputs": [],
   "source": [
    "def create_model():\n",
    "    # Create model\n",
    "    # Building CNN\n",
    "    model = Sequential()\n",
    "    model.add(Conv2D(32, (3, 3), activation='relu', kernel_initializer='he_uniform', input_shape=(28, 28, 1)))\n",
    "    model.add(MaxPooling2D((2, 2)))\n",
    "    model.add(Conv2D(64, (3, 3), activation='relu', kernel_initializer='he_uniform'))\n",
    "    model.add(Conv2D(64, (3, 3), activation='relu', kernel_initializer='he_uniform'))\n",
    "    model.add(MaxPooling2D((2, 2)))\n",
    "    model.add(Flatten())\n",
    "    model.add(Dense(100, activation='relu', kernel_initializer='he_uniform'))\n",
    "    model.add(Dense(10, activation='softmax'))\n",
    "    model.summary()\n",
    "\n",
    "    # compile model\n",
    "    model.compile(loss='categorical_crossentropy', optimizer='adam', metrics=['accuracy'])\n",
    "    return model"
   ]
  },
  {
   "cell_type": "code",
   "execution_count": 118,
   "metadata": {},
   "outputs": [],
   "source": [
    "# -------evaluate a model using k-fold cross-validation--------\n",
    "def evaluate_model(X_train, y_Train, n_folds=5):\n",
    "\n",
    "    accuracy, data = list(), list()\n",
    "\n",
    "    # prepare 5-cross validation\n",
    "    kfold = KFold(n_folds, shuffle=True, random_state=1)\n",
    "\n",
    "    for x_train, x_test in kfold.split(X_train):\n",
    "        # create model\n",
    "        model = create_model()\n",
    "        # select rows for train and test\n",
    "        trainX, trainY, testX, testY = X_train[x_train], y_Train[x_train], X_train[x_test], y_Train[x_test]\n",
    "        # fit model\n",
    "        data_fit = model.fit(trainX, trainY, validation_data=(testX, testY), epochs=10, batch_size=32)\n",
    "        # evaluate model\n",
    "        _, acc = model.evaluate(testX, testY, verbose=0)\n",
    "        # stores accuracy\n",
    "        accuracy.append(acc)\n",
    "        data.append(data_fit)\n",
    "    return accuracy, data\n"
   ]
  },
  {
   "cell_type": "code",
   "execution_count": 119,
   "metadata": {},
   "outputs": [],
   "source": [
    "# plot diagnostic learning curves\n",
    "def summarize_diagnostics(data):\n",
    "    for i in range(len(data)):\n",
    "        # plot loss\n",
    "        pyplot.subplot(2, 1, 1)\n",
    "        pyplot.title('Cross Entropy Loss')\n",
    "        pyplot.plot(data[i].history['loss'], color='red', label='green')\n",
    "        pyplot.plot(data[i].history['val_loss'], color='orange', label='test')\n",
    "        # plot accuracy\n",
    "        pyplot.subplot(2, 1, 2)\n",
    "        pyplot.title('Classification Accuracy')\n",
    "        pyplot.plot(data[i].history['accuracy'], color='blue', label='train')\n",
    "        pyplot.plot(data[i].history['val_accuracy'], color='orange', label='test')\n",
    "    pyplot.show()"
   ]
  },
  {
   "cell_type": "code",
   "execution_count": 120,
   "metadata": {},
   "outputs": [],
   "source": [
    "def evaluate_model(X_train, y_Train, n_folds=5):    \n",
    "    accuracy, data = list(), list()\n",
    "    # prepare 5-cross validation\n",
    "    kfold = KFold(n_folds, shuffle=True, random_state=1)\n",
    "\n",
    "    for x_train, x_test in kfold.split(X_train):\n",
    "        # create model\n",
    "        model = create_model()        # select rows for train and test\n",
    "        trainX, trainY, testX, testY = X_train[x_train], y_Train[x_train], X_train[x_test], y_Train[x_test]        # fit model\n",
    "        data_fit = model.fit(trainX, trainY, validation_data=(testX, testY), epochs=100, batch_size=10)        # evaluate model\n",
    "        _, acc = model.evaluate(testX, testY, verbose=0)        # stores Accuracy \n",
    "        accuracy.append(acc)\n",
    "        data.append(data_fit)\n",
    "    return accuracy, data"
   ]
  },
  {
   "cell_type": "code",
   "execution_count": 121,
   "metadata": {},
   "outputs": [],
   "source": [
    "# summarize model performance\n",
    "def summarize_performance(acc):\n",
    "    # print summary\n",
    "    print('Accuracy: mean=%.3f std=%.3f, n=%d' % (numpy.mean(acc) * 100, numpy.std(acc) * 100, len(acc)))\n",
    "\n",
    "    # box and whisker plots of results\n",
    "    pyplot.boxplot(acc)\n",
    "    pyplot.show()"
   ]
  },
  {
   "cell_type": "code",
   "execution_count": 122,
   "metadata": {},
   "outputs": [],
   "source": [
    "# This function predicts the images already in the dataset\n",
    "def test(X_train, model):\n",
    "    test_images = X_train[1:10]\n",
    "    test_images = test_images.reshape(test_images.shape[0], 28, 28)\n",
    "\n",
    "    for i, test_image in enumerate(test_images, start=1):\n",
    "        org_image = test_image\n",
    "        test_image = test_image.reshape(1, 28, 28, 1)\n",
    "        prediction = model.predict_classes(test_image, verbose=0)\n",
    "\n",
    "        print(\"Predicted digit: {}\".format(prediction[0]))\n",
    "        plt.subplot(330 + i)\n",
    "        plt.axis('off')\n",
    "        plt.title(\"Predicted digit: {}\".format(prediction[0]))\n",
    "        plt.imshow(org_image, cmap=plt.get_cmap('gray'))\n",
    "\n",
    "    plt.show()\n"
   ]
  },
  {
   "cell_type": "code",
   "execution_count": 123,
   "metadata": {
    "scrolled": false
   },
   "outputs": [
    {
     "name": "stdout",
     "output_type": "stream",
     "text": [
      "Model: \"sequential_9\"\n",
      "_________________________________________________________________\n",
      "Layer (type)                 Output Shape              Param #   \n",
      "=================================================================\n",
      "conv2d_27 (Conv2D)           (None, 26, 26, 32)        320       \n",
      "_________________________________________________________________\n",
      "max_pooling2d_18 (MaxPooling (None, 13, 13, 32)        0         \n",
      "_________________________________________________________________\n",
      "conv2d_28 (Conv2D)           (None, 11, 11, 64)        18496     \n",
      "_________________________________________________________________\n",
      "conv2d_29 (Conv2D)           (None, 9, 9, 64)          36928     \n",
      "_________________________________________________________________\n",
      "max_pooling2d_19 (MaxPooling (None, 4, 4, 64)          0         \n",
      "_________________________________________________________________\n",
      "flatten_9 (Flatten)          (None, 1024)              0         \n",
      "_________________________________________________________________\n",
      "dense_18 (Dense)             (None, 100)               102500    \n",
      "_________________________________________________________________\n",
      "dense_19 (Dense)             (None, 10)                1010      \n",
      "=================================================================\n",
      "Total params: 159,254\n",
      "Trainable params: 159,254\n",
      "Non-trainable params: 0\n",
      "_________________________________________________________________\n",
      "Epoch 1/10\n",
      "300/300 [==============================] - 32s 107ms/step - loss: 0.2032 - accuracy: 0.9383 - val_loss: 0.0515 - val_accuracy: 0.9825\n",
      "Epoch 2/10\n",
      "300/300 [==============================] - 31s 103ms/step - loss: 0.0542 - accuracy: 0.9831 - val_loss: 0.0452 - val_accuracy: 0.9848\n",
      "Epoch 3/10\n",
      "300/300 [==============================] - 30s 101ms/step - loss: 0.0371 - accuracy: 0.9878 - val_loss: 0.0283 - val_accuracy: 0.9907\n",
      "Epoch 4/10\n",
      "300/300 [==============================] - 33s 109ms/step - loss: 0.0283 - accuracy: 0.9910 - val_loss: 0.0351 - val_accuracy: 0.9884\n",
      "Epoch 5/10\n",
      "300/300 [==============================] - 31s 103ms/step - loss: 0.0211 - accuracy: 0.9929 - val_loss: 0.0350 - val_accuracy: 0.9886\n",
      "Epoch 6/10\n",
      "300/300 [==============================] - 31s 104ms/step - loss: 0.0178 - accuracy: 0.9944 - val_loss: 0.0345 - val_accuracy: 0.9890\n",
      "Epoch 7/10\n",
      "300/300 [==============================] - 31s 105ms/step - loss: 0.0146 - accuracy: 0.9955 - val_loss: 0.0250 - val_accuracy: 0.9925\n",
      "Epoch 8/10\n",
      "300/300 [==============================] - 31s 104ms/step - loss: 0.0098 - accuracy: 0.9968 - val_loss: 0.0308 - val_accuracy: 0.9909\n",
      "Epoch 9/10\n",
      "300/300 [==============================] - 31s 103ms/step - loss: 0.0103 - accuracy: 0.9965 - val_loss: 0.0356 - val_accuracy: 0.9887\n",
      "Epoch 10/10\n",
      "300/300 [==============================] - 30s 101ms/step - loss: 0.0094 - accuracy: 0.9970 - val_loss: 0.0427 - val_accuracy: 0.9889\n",
      "WARNING:tensorflow:11 out of the last 11 calls to <function Model.make_predict_function.<locals>.predict_function at 0x7f66cdde11f0> triggered tf.function retracing. Tracing is expensive and the excessive number of tracings could be due to (1) creating @tf.function repeatedly in a loop, (2) passing tensors with different shapes, (3) passing Python objects instead of tensors. For (1), please define your @tf.function outside of the loop. For (2), @tf.function has experimental_relax_shapes=True option that relaxes argument shapes that can avoid unnecessary retracing. For (3), please refer to https://www.tensorflow.org/tutorials/customization/performance#python_or_tensor_args and https://www.tensorflow.org/api_docs/python/tf/function for  more details.\n",
      "Predicted digit: 0\n",
      "Predicted digit: 4\n",
      "Predicted digit: 1\n",
      "Predicted digit: 9\n",
      "Predicted digit: 2\n",
      "Predicted digit: 1\n",
      "Predicted digit: 3\n",
      "Predicted digit: 1\n",
      "Predicted digit: 4\n"
     ]
    },
    {
     "data": {
      "image/png": "[encoded data removed]",
      "text/plain": [
       "<Figure size 432x288 with 9 Axes>"
      ]
     },
     "metadata": {
      "needs_background": "light"
     },
     "output_type": "display_data"
    },
    {
     "name": "stdout",
     "output_type": "stream",
     "text": [
      "Saved model to disk\n"
     ]
    }
   ],
   "source": [
    "def run():\n",
    "    X_test, y_test, X_train, y_train = input_data()\n",
    "\n",
    "    # Evaluate\n",
    "    #accuracy, data = evaluate_model(X_train, y_train)\n",
    "    # summarize_diagnostics(data)\n",
    "    # summarize_performance(accuracy)\n",
    "    model = create_model()\n",
    "    model.fit(X_train, y_train, validation_data=(X_test, y_test), epochs=10, batch_size=200)\n",
    "    # TEST\n",
    "    # for images alreday\n",
    "    test(X_train, model)\n",
    "\n",
    "    # serialize model to JSON\n",
    "    model_json = model.to_json()\n",
    "    with open(\"model.json\", \"w\") as json_file:\n",
    "        json_file.write(model_json)\n",
    "    # serialize weights to HDF5\n",
    "    model.save_weights(\"model.h5\")\n",
    "    print(\"Saved model to disk\")\n",
    "\n",
    "\n",
    "\n",
    "\n",
    "run()"
   ]
  },
  {
   "cell_type": "code",
   "execution_count": null,
   "metadata": {},
   "outputs": [],
   "source": [
    "def predict(img):\n",
    "    image = img.copy()\n",
    "    image = cv2.cvtColor(image, cv2.COLOR_BGR2GRAY)\n",
    "    image = cv2.threshold(image, 140, 255, cv2.THRESH_BINARY_INV)[1]\n",
    "    image = cv2.resize(image, (28, 28))\n",
    "    #display_image(image)\n",
    "    image = image.astype('float32')\n",
    "    image = image.reshape(1, 28, 28, 1)\n",
    "    image /= 255\n",
    "\n",
    "    plt.imshow(image.reshape(28, 28), cmap='Greys')\n",
    "    plt.show()\n",
    "    model = load_model('cnn.hdf5')\n",
    "    pred = model.predict(image.reshape(1, 28, 28, 1), batch_size=1)\n",
    "\n",
    "    print(\"Predicted Number: \", pred.argmax())\n",
    "\n",
    "predict(cv2.imread('3.jpeg'))"
   ]
  },
  {
   "cell_type": "code",
   "execution_count": null,
   "metadata": {},
   "outputs": [],
   "source": []
  },
  {
   "cell_type": "code",
   "execution_count": null,
   "metadata": {},
   "outputs": [],
   "source": []
  }
 ],
 "metadata": {
  "kernelspec": {
   "display_name": "Python 3",
   "language": "python",
   "name": "python3"
  },
  "language_info": {
   "codemirror_mode": {
    "name": "ipython",
    "version": 3
   },
   "file_extension": ".py",
   "mimetype": "text/x-python",
   "name": "python",
   "nbconvert_exporter": "python",
   "pygments_lexer": "ipython3",
   "version": "3.8.3"
  }
 },
 "nbformat": 4,
 "nbformat_minor": 4
}
